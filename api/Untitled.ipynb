{
 "cells": [
  {
   "cell_type": "code",
   "execution_count": 1,
   "metadata": {},
   "outputs": [
    {
     "name": "stdout",
     "output_type": "stream",
     "text": [
      "$5$rounds=535000$RKVPaUq57qbUs9cp$Zg/Eq26mLfZchCRmZGjb5zwNrZR1Njrh42wxdFBAqwA\n",
      "$5$rounds=535000$oEMimDJjaN2TDjnv$QnyNm9RasvvhjKXhPdBw1fFCHZTKvWtOziIARnfVXS8\n",
      "True\n",
      "True\n"
     ]
    }
   ],
   "source": [
    "from passlib.hash import sha256_crypt\n",
    "\n",
    "pw = 'mypass'\n",
    "h = sha256_crypt.hash(pw)\n",
    "h2 = sha256_crypt.hash(pw)\n",
    "print(h)\n",
    "print(h2)\n",
    "print(sha256_crypt.verify(pw,h))\n",
    "print(sha256_crypt.verify(pw,h2))"
   ]
  },
  {
   "cell_type": "code",
   "execution_count": null,
   "metadata": {},
   "outputs": [],
   "source": []
  }
 ],
 "metadata": {
  "kernelspec": {
   "display_name": "Python 3",
   "language": "python",
   "name": "python3"
  },
  "language_info": {
   "codemirror_mode": {
    "name": "ipython",
    "version": 3
   },
   "file_extension": ".py",
   "mimetype": "text/x-python",
   "name": "python",
   "nbconvert_exporter": "python",
   "pygments_lexer": "ipython3",
   "version": "3.6.6"
  }
 },
 "nbformat": 4,
 "nbformat_minor": 2
}
